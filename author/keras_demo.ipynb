{
 "cells": [
  {
   "cell_type": "code",
   "execution_count": 1,
   "metadata": {},
   "outputs": [],
   "source": [
    "# 导入相关包\n",
    "import os\n",
    "import time\n",
    "import random\n",
    "import jieba as jb\n",
    "import numpy as np\n",
    "import jieba.analyse\n",
    "import tensorflow as tf\n",
    "import tensorflow.keras as K\n",
    "from matplotlib import pyplot as plt\n",
    "from tensorflow.keras.layers import Dense\n",
    "from tensorflow.keras.layers import Input\n",
    "from tensorflow.keras.models import Model\n",
    "from sklearn.preprocessing import LabelEncoder\n",
    "from tensorflow.keras.models import load_model\n",
    "from tensorflow.keras.models import Sequential\n",
    "from tensorflow.keras.layers import Activation\n",
    "from tensorflow.keras.utils import to_categorical\n"
   ]
  },
  {
   "cell_type": "markdown",
   "metadata": {},
   "source": [
    "读取数据集，保存在字典中"
   ]
  },
  {
   "cell_type": "code",
   "execution_count": 2,
   "metadata": {},
   "outputs": [],
   "source": [
    "dataset = {}\n",
    "path = \"./dataset/\"\n",
    "files= os.listdir(path)\n",
    "for file in files:\n",
    "    if not os.path.isdir(file) and not file[0] == '.': # 跳过隐藏文件和文件夹\n",
    "        f = open(path+\"/\"+file, 'r',  encoding='UTF-8'); # 打开文件\n",
    "        for line in f.readlines():\n",
    "            dataset[line] = file[:-4]\n"
   ]
  },
  {
   "cell_type": "markdown",
   "metadata": {},
   "source": [
    "数据集总共有 8438 个文本片段，现在展示其中的 10 个片段及其作者。"
   ]
  },
  {
   "cell_type": "code",
   "execution_count": 4,
   "metadata": {},
   "outputs": [
    {
     "name": "stdout",
     "output_type": "stream",
     "text": [
      "几个少年辛苦奔走了十多年，暗地里一颗弹丸要了他的性命；几个少年一击不中，在监牢里身受一个多月的苦刑；几个少年怀着远志，忽然踪影全无，连尸首也不知那里去了。——“他们都在社会的冷笑恶骂迫害倾陷里过了一生；现在他们的坟墓也早在忘却里渐渐平塌下去了。\n",
      " --- 鲁迅\n"
     ]
    }
   ],
   "source": [
    "name_zh = {'LX': '鲁迅', 'MY':'莫言' , 'QZS':'钱钟书' ,'WXB':'王小波' ,'ZAL':'张爱玲'} \n",
    "for (k,v) in  list(dataset.items())[:1]:\n",
    "    print(k,'---',name_zh[v])"
   ]
  },
  {
   "cell_type": "markdown",
   "metadata": {},
   "source": [
    "## 2.2 数据集预处理  \n",
    "在做文本挖掘的时候，首先要做的预处理就是分词。  \n",
    "英文单词天然有空格隔开容易按照空格分词，但是也有时候需要把多个单词做为一个分词，比如一些名词如 \"New York\" ，需要做为一个词看待。  \n",
    "而中文由于没有空格，分词就是一个需要专门去解决的问题了。  \n",
    "这里我们使用 jieba 包进行分词，使用**精确模式**、**全模式**和**搜索引擎模式**进行分词对比。  \n",
    "更多方法参考：https://github.com/fxsjy/jieba   "
   ]
  },
  {
   "cell_type": "code",
   "execution_count": null,
   "metadata": {},
   "outputs": [],
   "source": [
    "# 精确模式分词\n",
    "titles = [\".\".join(jb.cut(t, cut_all=False)) for t,_ in dataset.items()]\n",
    "print(\"精确模式分词结果:\\n\",titles[0])"
   ]
  },
  {
   "cell_type": "code",
   "execution_count": null,
   "metadata": {},
   "outputs": [],
   "source": [
    "# 全模式分词\n",
    "titles = [\".\".join(jb.cut(t, cut_all=True)) for t,_ in dataset.items()]\n",
    "print(\"全模式分词结果:\\n\",titles[0])"
   ]
  },
  {
   "cell_type": "code",
   "execution_count": null,
   "metadata": {},
   "outputs": [],
   "source": [
    "# 搜索引擎模式分词\n",
    "titles = [\".\".join(jb.cut_for_search(t)) for t,_ in dataset.items()]\n",
    "print(\"搜索引擎模式分词结果:\\n\",titles[0])"
   ]
  },
  {
   "cell_type": "markdown",
   "metadata": {},
   "source": [
    "### 使用 TF-IDF 算法统计各个作品的关键词频率\n",
    "TF-IDF（term frequency–inverse document frequency，词频-逆向文件频率）是一种用于信息检索与文本挖掘的常用加权技术。  \n",
    "* TF-IDF是一种统计方法，用以评估一字词对于一个文件集或一个语料库中的其中一份文件的重要程度。字词的重要性随着它在文件中出现的次数成正比增加，但同时会随着它在语料库中出现的频率成反比下降。  \n",
    "* TF-IDF的主要思想是：如果某个单词在一篇文章中出现的频率TF高，并且在其他文章中很少出现，则认为此词或者短语具有很好的类别区分能力，适合用来分类。  \n",
    "这里我们使用 jieba 中的默认语料库来进行关键词抽取，并展示每位作者前 5 个关键词\n"
   ]
  },
  {
   "cell_type": "code",
   "execution_count": null,
   "metadata": {},
   "outputs": [],
   "source": [
    "import jieba.analyse\n",
    "# 将片段进行词频统计\n",
    "str_full = {}\n",
    "str_full['LX'] = \"\"\n",
    "str_full['MY'] = \"\"\n",
    "str_full['QZS'] = \"\"\n",
    "str_full['WXB'] = \"\"\n",
    "str_full['ZAL'] = \"\"\n",
    "\n",
    "for (k,v) in dataset.items():\n",
    "    str_full[v] += k\n",
    "\n",
    "for (k,v) in str_full.items():\n",
    "    print(k,\":\")\n",
    "    for x, w in jb.analyse.extract_tags(v, topK=5, withWeight=True):\n",
    "        print('%s %s' % (x, w))"
   ]
  },
  {
   "cell_type": "markdown",
   "metadata": {},
   "source": [
    "## 2.3 采用 Keras 建立一个简单的深度神经网络模型\n",
    "通过 Keras 构建深度学习模型的步骤如下：\n",
    "+ 定义模型——创建一个模型并添加配置层\n",
    "+ 编译模型——指定损失函数和优化器，并调用模型的 compile() 函数，完成模型编译。\n",
    "+ 训练模型——通过调用模型的 fit() 函数来训练模型。\n",
    "+ 模型预测——调用模型的 evaluate()或者 predict() 等函数对新数据进行预测。"
   ]
  },
  {
   "cell_type": "markdown",
   "metadata": {},
   "source": [
    "### 2.3.1 读取数据集\n",
    "首先需要读取数据集，记录每个片段的作者并保存。"
   ]
  },
  {
   "cell_type": "code",
   "execution_count": 5,
   "metadata": {},
   "outputs": [],
   "source": [
    "# 读取数据和标签\n",
    "def load_data(path):\n",
    "    \"\"\"\n",
    "    :param path:数据集文件夹路径\n",
    "    :return:返回读取的片段和对应的标签\n",
    "    \"\"\"\n",
    "    sentences = [] # 片段\n",
    "    target = [] # 作者\n",
    "    \n",
    "    # 定义lebel到数字的映射关系\n",
    "    labels = {'LX': 0, 'MY': 1, 'QZS': 2, 'WXB': 3, 'ZAL': 4}\n",
    "\n",
    "    files = os.listdir(path)\n",
    "    for file in files:\n",
    "        if not os.path.isdir(file):\n",
    "            f = open(path + \"/\" + file, 'r', encoding='UTF-8');  # 打开文件\n",
    "            for line in f.readlines():\n",
    "                sentences.append(line)\n",
    "                target.append(labels[file[:-4]])\n",
    "                \n",
    "    target = np.array(target)\n",
    "    encoder = LabelEncoder()\n",
    "    encoder.fit(target)\n",
    "    encoded_target = encoder.transform(target)\n",
    "    dummy_target = to_categorical(encoded_target)\n",
    "\n",
    "    return sentences, dummy_target"
   ]
  },
  {
   "cell_type": "markdown",
   "metadata": {},
   "source": [
    "对读取的片段进行分词，由于分词后的片段任然为中文词语组成的序列，需要创建词汇表，将每个中文词映射为一个数字。这里使用 tf 的 Tokenizer 创建词汇表。\n",
    "\n"
   ]
  },
  {
   "cell_type": "code",
   "execution_count": 6,
   "metadata": {},
   "outputs": [],
   "source": [
    "def padding(text_processed,path, max_sequence_length=80):\n",
    "    \"\"\"\n",
    "    数据处理，如果使用 lstm，则可以接收不同长度的序列。\n",
    "    :text_processed：不定长的 Token 化文本序列，二维list\n",
    "    :path：数据集路径\n",
    "    :max_sequence_length：padding 大小，长句截断短句补 0\n",
    "    :return 处理后的序列，numpy 格式的二维数组\n",
    "    \"\"\"\n",
    "    res = []\n",
    "    for text in text_processed:\n",
    "        if len(text) > max_sequence_length:\n",
    "            text = text[:max_sequence_length]\n",
    "        else:\n",
    "            text = text + [0 for i in range(max_sequence_length-len(text))]\n",
    "        res.append(text)\n",
    "    return np.array(res)"
   ]
  },
  {
   "cell_type": "code",
   "execution_count": 7,
   "metadata": {},
   "outputs": [
    {
     "name": "stderr",
     "output_type": "stream",
     "text": [
      "Building prefix dict from the default dictionary ...\n",
      "Loading model from cache /tmp/jieba.cache\n",
      "Loading model cost 0.735 seconds.\n",
      "Prefix dict has been built successfully.\n"
     ]
    },
    {
     "name": "stdout",
     "output_type": "stream",
     "text": [
      "几个.少年.辛苦.奔走.了.十多年.，.暗地里.一颗.弹丸.要.了.他.的.性命.；.几个.少年.一击.不.中.，.在.监牢.里.身受.一个多月.的.苦刑.；.几个.少年.怀着.远志.，.忽然.踪影.全无.，.连.尸首.也.不知.那里.去.了.。.—.—.“.他们.都.在.社会.的.冷笑.恶骂.迫害.倾陷.里.过.了.一生.；.现在.他们.的.坟墓.也.早.在.忘却.里.渐渐.平.塌下去.了.。.\n",
      "\n"
     ]
    }
   ],
   "source": [
    "# 查看我们创建词汇表的结果\n",
    "sentences,target = load_data(path)\n",
    "\n",
    "#定义是文档的最大长度。如果文本的长度大于最大长度，那么它会被剪切，反之则用0填充\n",
    "max_sequence_length = 80\n",
    "\n",
    "# 使用 jieba 机精确模式分词\n",
    "sentences = [\".\".join(jb.cut(t, cut_all=False)) for t in sentences]\n",
    "print(sentences[0])"
   ]
  },
  {
   "cell_type": "markdown",
   "metadata": {},
   "source": [
    "**Tokenizer** 类允许使用两种方法向量化一个文本语料库： 将每个文本转化为一个整数序列（每个整数都是词典中标记的索引）； 或者将其转化为一个向量，其中每个标记的系数可以是二进制值、词频、TF-IDF权重等。"
   ]
  },
  {
   "cell_type": "code",
   "execution_count": 12,
   "metadata": {},
   "outputs": [],
   "source": [
    "# 构建词汇表\n",
    "vocab_processor = tf.keras.preprocessing.text.Tokenizer(num_words=60000,filters='!\"#$%&()*+,-./:;<=>?@[\\]^_`{|}~ ', oov_token='<UNK>')\n",
    "# 要用以训练的文本列表\n",
    "vocab_processor.fit_on_texts(sentences)\n",
    "# 序列的列表，将 sentences 文本序列化\n",
    "text_processed = vocab_processor.texts_to_sequences(sentences)"
   ]
  },
  {
   "cell_type": "markdown",
   "metadata": {},
   "source": [
    "将词汇表保存为 json，后续可以直接读取，读取方式为 **tf.keras.preprocessing.text.tokenizer_from_json(json_string)**，可以获得vocab_processor 相同参数的对象"
   ]
  },
  {
   "cell_type": "code",
   "execution_count": 13,
   "metadata": {},
   "outputs": [
    {
     "name": "stdout",
     "output_type": "stream",
     "text": [
      "[[ 217 1453 3946 ...    4    7    0]\n",
      " [   8    3    2 ...   48    3    4]\n",
      " [  22  204  145 ...    0    0    0]\n",
      " ...\n",
      " [  18   22  350 ...    7    0    0]\n",
      " [1104 1426  428 ...    0    0    0]\n",
      " [  20  287  330 ...    0    0    0]]\n"
     ]
    }
   ],
   "source": [
    "vocab_json_string = vocab_processor.to_json()\n",
    "# 将词汇表保存路径\n",
    "vocab_keras_path = \"results/vocab_keras.json\"\n",
    "file = open(vocab_keras_path,\"w\")\n",
    "file.write(vocab_json_string)\n",
    "file.close()\n",
    "\n",
    "# 将句子 padding 为固定长度，如果使用lstm则不需要 padding 为固定长度\n",
    "text_processed = padding(text_processed,path)\n",
    "print(text_processed)"
   ]
  },
  {
   "cell_type": "markdown",
   "metadata": {},
   "source": [
    "打乱并切分数据集，取 30% 数据作为验证集"
   ]
  },
  {
   "cell_type": "code",
   "execution_count": 14,
   "metadata": {},
   "outputs": [],
   "source": [
    "# 验证集比例\n",
    "val_split = 0.3\n",
    "\n",
    "# 打乱顺序\n",
    "text_target = list(zip(text_processed, target))\n",
    "random.shuffle(text_target)\n",
    "text_processed[:], target[:] = zip(*text_target)\n",
    "\n",
    "# 验证集数目\n",
    "val_counts = int(val_split*len(text_target))\n",
    "\n",
    "# 切分验证集\n",
    "val_X = text_processed[-val_counts:]\n",
    "val_y = target[-val_counts:]\n",
    "train_X = text_processed[:-val_counts]\n",
    "train_y = target[:-val_counts]"
   ]
  },
  {
   "cell_type": "markdown",
   "metadata": {},
   "source": [
    "### 2.3.3 建立深度学习模型\n",
    "\n",
    "+ 创建一个简单的深度接神经网络模型用于文本分类"
   ]
  },
  {
   "cell_type": "code",
   "execution_count": 15,
   "metadata": {},
   "outputs": [],
   "source": [
    "def dnn_model(train_X, train_y, val_X, val_y, model_save_path='results/demo.h5',\n",
    "              log_dir=\"results/logs/\"):\n",
    "\n",
    "    # 选择模型，选择序贯模型（Sequential())\n",
    "    model = K.Sequential()    \n",
    "    # 构建网络层\n",
    "    model.add(K.layers.Embedding(60000 + 1, 64, input_length=80))\n",
    "    model.add(K.layers.LSTM(64, input_shape=(80, 100), return_sequences=False))  # 这里用一层LSTM做处理\n",
    "    model.add(K.layers.Dense(64))\n",
    "    model.add(K.layers.Activation('relu'))\n",
    "    model.add(K.layers.Dense(5))\n",
    "    model.add(K.layers.Activation(\"softmax\"))\n",
    "    model.compile(loss=\"categorical_crossentropy\", optimizer=\"adam\", metrics=[\"accuracy\"])\n",
    "    # 训练模型\n",
    "    # print(train_X.shape) # (5907, 80)\n",
    "    history = model.fit(train_X.astype(np.float64), train_y, batch_size=128, epochs=5,validation_data=(val_X, val_y) )\n",
    "\n",
    "    # 保存模型\n",
    "    model.save(model_save_path)\n",
    "\n",
    "    return history, model"
   ]
  },
  {
   "cell_type": "markdown",
   "metadata": {},
   "source": [
    "+ 模型训练过程和模型概况"
   ]
  },
  {
   "cell_type": "code",
   "execution_count": 16,
   "metadata": {},
   "outputs": [
    {
     "name": "stdout",
     "output_type": "stream",
     "text": [
      "Epoch 1/5\n",
      "47/47 [==============================] - 22s 471ms/step - loss: 1.5120 - accuracy: 0.3371 - val_loss: 1.3688 - val_accuracy: 0.4627\n",
      "Epoch 2/5\n",
      "47/47 [==============================] - 21s 453ms/step - loss: 1.0939 - accuracy: 0.5488 - val_loss: 0.6697 - val_accuracy: 0.7645\n",
      "Epoch 3/5\n",
      "47/47 [==============================] - 21s 446ms/step - loss: 0.5142 - accuracy: 0.8067 - val_loss: 0.3729 - val_accuracy: 0.8913\n",
      "Epoch 4/5\n",
      "47/47 [==============================] - 21s 443ms/step - loss: 0.2203 - accuracy: 0.9453 - val_loss: 0.2334 - val_accuracy: 0.9411\n",
      "Epoch 5/5\n",
      "47/47 [==============================] - 20s 431ms/step - loss: 0.0464 - accuracy: 0.9917 - val_loss: 0.1348 - val_accuracy: 0.9704\n",
      "Model: \"sequential\"\n",
      "_________________________________________________________________\n",
      "Layer (type)                 Output Shape              Param #   \n",
      "=================================================================\n",
      "embedding (Embedding)        (None, 80, 64)            3840064   \n",
      "_________________________________________________________________\n",
      "lstm (LSTM)                  (None, 64)                33024     \n",
      "_________________________________________________________________\n",
      "dense (Dense)                (None, 64)                4160      \n",
      "_________________________________________________________________\n",
      "activation (Activation)      (None, 64)                0         \n",
      "_________________________________________________________________\n",
      "dense_1 (Dense)              (None, 5)                 325       \n",
      "_________________________________________________________________\n",
      "activation_1 (Activation)    (None, 5)                 0         \n",
      "=================================================================\n",
      "Total params: 3,877,573\n",
      "Trainable params: 3,877,573\n",
      "Non-trainable params: 0\n",
      "_________________________________________________________________\n",
      "模型训练总时长： 110.0412209033966\n"
     ]
    }
   ],
   "source": [
    "# 开始时间\n",
    "start = time.time()\n",
    "\n",
    "# 数据预处理\n",
    "data_path = \"./dataset/\"\n",
    "\n",
    "# 训练模型，获取训练过程和训练后的模型\n",
    "history,model = dnn_model(train_X, train_y, val_X, val_y)\n",
    "\n",
    "# 打印模型概况和模型训练总数长\n",
    "model.summary()\n",
    "print(\"模型训练总时长：\",time.time()-start)"
   ]
  },
  {
   "cell_type": "markdown",
   "metadata": {},
   "source": [
    "+ 模型训练过程图形化\n"
   ]
  },
  {
   "cell_type": "code",
   "execution_count": 17,
   "metadata": {},
   "outputs": [],
   "source": [
    "def plot_training_history(res):\n",
    "    \"\"\"\n",
    "    绘制模型的训练结果\n",
    "    :param res: 模型的训练结果\n",
    "    :return:\n",
    "    \"\"\"\n",
    "    # 绘制模型训练过程的损失和平均损失\n",
    "    # 绘制模型训练过程的损失值曲线，标签是 loss\n",
    "    plt.plot(res.history['loss'], label='loss')\n",
    "    \n",
    "    # 绘制模型训练过程中的平均损失曲线，标签是 val_loss\n",
    "    plt.plot(res.history['val_loss'], label='val_loss')\n",
    "    \n",
    "    # 绘制图例,展示出每个数据对应的图像名称和图例的放置位置\n",
    "    plt.legend(loc='upper right')\n",
    "    \n",
    "    # 展示图片\n",
    "    plt.show()\n",
    "\n",
    "    # 绘制模型训练过程中的的准确率和平均准确率\n",
    "    # 绘制模型训练过程中的准确率曲线，标签是 acc\n",
    "    plt.plot(res.history['accuracy'], label='accuracy')\n",
    "    \n",
    "    # 绘制模型训练过程中的平均准确率曲线，标签是 val_acc\n",
    "    plt.plot(res.history['val_accuracy'], label='val_accuracy')\n",
    "    \n",
    "    # 绘制图例,展示出每个数据对应的图像名称，图例的放置位置为默认值。\n",
    "    plt.legend()\n",
    "    \n",
    "    # 展示图片\n",
    "    plt.show()"
   ]
  },
  {
   "cell_type": "code",
   "execution_count": 18,
   "metadata": {},
   "outputs": [
    {
     "data": {
      "image/png": "[encoded data removed]",
      "text/plain": [
       "<Figure size 432x288 with 1 Axes>"
      ]
     },
     "metadata": {
      "needs_background": "light"
     },
     "output_type": "display_data"
    },
    {
     "data": {
      "image/png": "[encoded data removed]",
      "text/plain": [
       "<Figure size 432x288 with 1 Axes>"
      ]
     },
     "metadata": {
      "needs_background": "light"
     },
     "output_type": "display_data"
    }
   ],
   "source": [
    "# 绘制模型训练过程曲线\n",
    "plot_training_history(history)\n"
   ]
  },
  {
   "cell_type": "markdown",
   "metadata": {},
   "source": [
    "+ 加载模型和模型评估\n"
   ]
  },
  {
   "cell_type": "code",
   "execution_count": 19,
   "metadata": {},
   "outputs": [],
   "source": [
    "def load_and_model_prediction(val_X, val_y, model_path = 'results/demo.h5'):\n",
    "    \"\"\"\n",
    "    加载模型和模型评估，打印验证集的 loss 和准确度\n",
    "    :param validation_generator: 预测数据\n",
    "    :return: \n",
    "    \"\"\"\n",
    "    # 加载模型\n",
    "    model = K.models.load_model(model_path)\n",
    "    # 获取验证集的 loss 和 accuracy\n",
    "    loss, accuracy = model.evaluate(val_X, val_y)\n",
    "    print(\"\\nLoss: %.2f, Accuracy: %.2f%%\" % (loss, accuracy * 100))"
   ]
  },
  {
   "cell_type": "code",
   "execution_count": 20,
   "metadata": {},
   "outputs": [
    {
     "name": "stdout",
     "output_type": "stream",
     "text": [
      "80/80 [==============================] - 2s 24ms/step - loss: 0.1348 - accuracy: 0.9704\n",
      "\n",
      "Loss: 0.13, Accuracy: 97.04%\n"
     ]
    }
   ],
   "source": [
    "load_and_model_prediction(val_X, val_y)"
   ]
  },
  {
   "cell_type": "code",
   "execution_count": null,
   "metadata": {
    "deletable": false,
    "select": true
   },
   "outputs": [],
   "source": [
    "# 导入相关包\n",
    "import os\n",
    "import numpy as np\n",
    "import jieba as jb\n",
    "import tensorflow as tf\n",
    "from tensorflow.keras.models import load_model\n",
    "from sklearn.preprocessing import LabelEncoder\n",
    "from tensorflow.keras.utils import to_categorical\n",
    "\n",
    "\n",
    "# ------------------------------------------------------------------------------\n",
    "# 本 cell 代码仅为 Notebook 训练模型结果进行平台测试代码示范\n",
    "# 可以实现个人数据处理的方式，平台测试通过即可提交代码\n",
    "#  -----------------------------------------------------------------------------\n",
    "\n",
    "def load_data(path):\n",
    "    \"\"\"\n",
    "    读取数据和标签\n",
    "    :param path:数据集文件夹路径\n",
    "    :return:返回读取的片段和对应的标签\n",
    "    \"\"\"\n",
    "    sentences = []  # 片段\n",
    "    target = []  # 作者\n",
    "\n",
    "    # 定义lebel到数字的映射关系\n",
    "    labels = {'LX': 0, 'MY': 1, 'QZS': 2, 'WXB': 3, 'ZAL': 4}\n",
    "\n",
    "    files = os.listdir(path)\n",
    "    for file in files:\n",
    "        if not os.path.isdir(file):\n",
    "            f = open(path + \"/\" + file, 'r', encoding='UTF-8');  # 打开文件\n",
    "            for line in f.readlines():\n",
    "                sentences.append(line)\n",
    "                target.append(labels[file[:-4]])\n",
    "\n",
    "    target = np.array(target)\n",
    "    encoder = LabelEncoder()\n",
    "    encoder.fit(target)\n",
    "    encoded_target = encoder.transform(target)\n",
    "    dummy_target = to_categorical(encoded_target)\n",
    "\n",
    "    return sentences, dummy_target\n",
    "\n",
    "\n",
    "def padding(text_processed, path, max_sequence_length=80):\n",
    "    \"\"\"\n",
    "    数据处理，如果使用 lstm，则可以接收不同长度的序列。\n",
    "    :text_processed：不定长的 Token 化文本序列，二维list\n",
    "    :path：数据集路径\n",
    "    :max_sequence_length：padding 大小，长句截断短句补 0\n",
    "    :return 处理后的序列，numpy 格式的二维数组\n",
    "    \"\"\"\n",
    "    res = []\n",
    "    for text in text_processed:\n",
    "        if len(text) > max_sequence_length:\n",
    "            text = text[:max_sequence_length]\n",
    "        else:\n",
    "            text = text + [0 for i in range(max_sequence_length - len(text))]\n",
    "        res.append(text)\n",
    "    return np.array(res)\n",
    "\n",
    "\n",
    "path = \"./dataset/\"\n",
    "sentences, target = load_data(path)\n",
    "max_sequence_length = 80\n",
    "# 使用jieba机精确模式分词\n",
    "sentences = [\".\".join(jb.cut(t, cut_all=False)) for t in sentences]\n",
    "vocab_processor = tf.keras.preprocessing.text.Tokenizer(num_words=60000, oov_token='<UNK>')\n",
    "vocab_processor.fit_on_texts(sentences)\n",
    "text_processed = vocab_processor.texts_to_sequences(sentences)\n",
    "# 将句子padding为固定长度，如果使用lstm则不需要padding为固定长度\n",
    "text_processed = padding(text_processed, path)"
   ]
  },
  {
   "cell_type": "markdown",
   "metadata": {},
   "source": [
    "===========================================  **模型预测代码答题区域**  =========================================== "
   ]
  },
  {
   "cell_type": "markdown",
   "metadata": {},
   "source": [
    "在下方的代码块中编写 **模型预测** 部分的代码，请勿在别的位置作答"
   ]
  },
  {
   "cell_type": "code",
   "execution_count": null,
   "metadata": {
    "deletable": false,
    "select": true
   },
   "outputs": [],
   "source": [
    "# -------------------------- 请加载您最满意的模型 ---------------------------\n",
    "# 加载模型(请加载你认为的最佳模型)\n",
    "# 加载模型,加载请注意 model_path 是相对路径, 与当前文件同级。\n",
    "# 如果你的模型是在 results 文件夹下的 demo.h5 模型，则 model_path = 'results/demo.h5'\n",
    "model_path = None\n",
    "\n",
    "# 加载模型，如果采用 keras 框架训练模型，则 model=load_model(model_path)\n",
    "model = load_model(model_path)\n",
    "\n",
    "# ---------------------- 模型预测，注意不要修改函数的输入输出 -------------------------\n",
    "def predict(text):\n",
    "    \"\"\"\n",
    "    :param text: 中文字符串\n",
    "    :return: 字符串格式的作者名缩写，比如:'LX'\n",
    "    \"\"\"\n",
    "    # ----------- 实现预测部分的代码，以下样例可代码自行删除，实现自己的处理方式 -----------\n",
    "    \n",
    "    labels = {0: 'LX', 1: 'MY', 2: 'QZS', 3: 'WXB', 4: 'ZAL'}\n",
    "    sen_prosessed = \" \".join(jb.cut(text, cut_all=True))\n",
    "    max_sequence_length = 80\n",
    "    sen_prosessed = vocab_processor.texts_to_sequences([sen_prosessed])[0]\n",
    "    if len(sen_prosessed) > max_sequence_length:\n",
    "        sen_prosessed = sen_prosessed[:max_sequence_length]\n",
    "    else:\n",
    "        sen_prosessed += [0 for _ in range(max_sequence_length - len(sen_prosessed))]\n",
    "    sen_prosessed = np.array(sen_prosessed).reshape(1, -1)\n",
    "    \n",
    "    # 加载模型进行预测\n",
    "    result = model.predict(sen_prosessed)\n",
    "    prediction = labels[list(result[0]).index(max(result[0]))]\n",
    "    # --------------------------------------------------------------------------\n",
    "\n",
    "    return prediction"
   ]
  },
  {
   "cell_type": "code",
   "execution_count": null,
   "metadata": {},
   "outputs": [],
   "source": [
    "sen = \"我听到一声尖叫，感觉到蹄爪戳在了一个富有弹性的东西上。定睛一看，不由怒火中烧。原来，趁着我不在，隔壁那个野杂种——沂蒙山猪刁小三，正舒坦地趴在我的绣榻上睡觉。我的身体顿时痒了起来，我的目光顿时凶了起来。\"\n",
    "predict(sen)"
   ]
  }
 ],
 "metadata": {
  "kernelspec": {
   "display_name": "Python 3",
   "language": "python",
   "name": "python3"
  },
  "language_info": {
   "codemirror_mode": {
    "name": "ipython",
    "version": 3
   },
   "file_extension": ".py",
   "mimetype": "text/x-python",
   "name": "python",
   "nbconvert_exporter": "python",
   "pygments_lexer": "ipython3",
   "version": "3.7.5"
  },
  "toc": {
   "base_numbering": 1,
   "nav_menu": {},
   "number_sections": true,
   "sideBar": true,
   "skip_h1_title": false,
   "title_cell": "Table of Contents",
   "title_sidebar": "Contents",
   "toc_cell": false,
   "toc_position": {},
   "toc_section_display": true,
   "toc_window_display": false
  },
  "varInspector": {
   "cols": {
    "lenName": 16,
    "lenType": 16,
    "lenVar": 40
   },
   "kernels_config": {
    "python": {
     "delete_cmd_postfix": "",
     "delete_cmd_prefix": "del ",
     "library": "var_list.py",
     "varRefreshCmd": "print(var_dic_list())"
    },
    "r": {
     "delete_cmd_postfix": ") ",
     "delete_cmd_prefix": "rm(",
     "library": "var_list.r",
     "varRefreshCmd": "cat(var_dic_list()) "
    }
   },
   "types_to_exclude": [
    "module",
    "function",
    "builtin_function_or_method",
    "instance",
    "_Feature"
   ],
   "window_display": false
  }
 },
 "nbformat": 4,
 "nbformat_minor": 2
}
